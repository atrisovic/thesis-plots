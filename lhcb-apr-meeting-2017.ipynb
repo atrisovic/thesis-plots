{
 "cells": [
  {
   "cell_type": "markdown",
   "metadata": {},
   "source": [
    "# Data from 2017 Physics Analysis survey. \n",
    "## Author: Sebastian Neubert @seneubert"
   ]
  },
  {
   "cell_type": "markdown",
   "metadata": {},
   "source": [
    "### Result summary\n",
    "\n",
    "- 49 analysis were published, out of that 16 returned data on their input data sizes. \n",
    "- We asked for ntuple size after stripping. Analyses could specify real data, MC and \"other\" samples, where other is for control channels and the like. All numbers are in GB or GBfb\n",
    "\n",
    "- Total data size reported: 9458.9 GB\n",
    "- Average per analysis: 591.1 GB\n",
    "- Average scaled to 49 analyses published in 2017: 28968 GB\n",
    "- Total reported normalized to luminosity (expect larger files from Run II!): 3358 GB fb\n",
    "- Average normalized to lumi: 210 GB fb\n",
    "- Average scaled to 49 analyses  published in 2017: 10284 Gb fb\n",
    "- The benchmark that should be used to budget storage needed (with contingency): 11 TB fb per year\n"
   ]
  },
  {
   "cell_type": "markdown",
   "metadata": {},
   "source": [
    "### Data"
   ]
  },
  {
   "cell_type": "code",
   "execution_count": 14,
   "metadata": {},
   "outputs": [],
   "source": [
    "sData=[382,35,350,21.6,3970,249,180,400,230,20,6,208,219,13.6,26,5]\n",
    "sMC=[5,6,10,22,515,1.6,110,224,110,6,15,1,37.5,0.5,3,10]\n",
    "lumi=[4.5,1.3,1.6,2,3,3,2,3,3,3,3,3,3,3,3,1.6]\n",
    "sOther=[1017,130,20,6.2,60,11.4,676,0,100,2,4,9,1.5,21,2,7]"
   ]
  },
  {
   "cell_type": "markdown",
   "metadata": {},
   "source": [
    "### Plots "
   ]
  },
  {
   "cell_type": "code",
   "execution_count": 18,
   "metadata": {},
   "outputs": [],
   "source": [
    "# %load header\n",
    "import numpy as np\n",
    "import matplotlib.pyplot as plt\n",
    "plt.rcParams[\"font.family\"] = \"Times New Roman\"\n",
    "plt.rcParams['axes.facecolor']='white'\n",
    "plt.rcParams['savefig.facecolor']='white'\n"
   ]
  },
  {
   "cell_type": "code",
   "execution_count": 39,
   "metadata": {},
   "outputs": [
    {
     "name": "stdout",
     "output_type": "stream",
     "text": [
      "[(1, '1a'), (2, '2a'), (3, '3a'), (4, '4a')]\n",
      "['1a', '2a', '3a', '4a']\n"
     ]
    }
   ],
   "source": [
    "a = [1, 2, 3, 4]\n",
    "b = [str(ax) + \"a\" for ax in a]\n",
    "print zip(a,b)\n",
    "print b"
   ]
  },
  {
   "cell_type": "code",
   "execution_count": 44,
   "metadata": {},
   "outputs": [
    {
     "data": {
      "image/png": "[encoded data removed]",
      "text/plain": [
       "<matplotlib.figure.Figure at 0x10992ca50>"
      ]
     },
     "metadata": {},
     "output_type": "display_data"
    }
   ],
   "source": [
    "# average data size distribution per analysis\n",
    "sData_avg = np.mean(sData)\n",
    "sMC_avg = np.mean(sMC)\n",
    "sOther_avg = np.mean(sOther)\n",
    "\n",
    "size = np.around([sData_avg, sMC_avg, sOther_avg], decimals=1)\n",
    "labels = [str(s)+\" GB\" for s in size]\n",
    "real_labels = ['Real data', 'Monte Carlo', 'Other data']\n",
    "full_label = [x +' of '+ y for x,y in zip(labels, real_labels)]\n",
    "explode = (0.1, 0, 0)\n",
    "colors = plt.cm.Set3(np.linspace(0,1,3))\n",
    "\n",
    "fig, ax = plt.subplots()\n",
    "pie = ax.pie(size, explode=explode, labels=full_label, autopct='%1.1f%%',\n",
    "        shadow=False, startangle=90, colors=colors)\n",
    "ax.axis('equal')  \n",
    "fig.suptitle('Average data size distribution for one analysis')\n",
    "plt.legend(pie[0], real_labels, loc=0)\n",
    "plt.show()"
   ]
  },
  {
   "cell_type": "code",
   "execution_count": 64,
   "metadata": {},
   "outputs": [
    {
     "data": {
      "text/html": [
       "<div>\n",
       "<style scoped>\n",
       "    .dataframe tbody tr th:only-of-type {\n",
       "        vertical-align: middle;\n",
       "    }\n",
       "\n",
       "    .dataframe tbody tr th {\n",
       "        vertical-align: top;\n",
       "    }\n",
       "\n",
       "    .dataframe thead th {\n",
       "        text-align: right;\n",
       "    }\n",
       "</style>\n",
       "<table border=\"1\" class=\"dataframe\">\n",
       "  <thead>\n",
       "    <tr style=\"text-align: right;\">\n",
       "      <th></th>\n",
       "      <th>data</th>\n",
       "      <th>mc</th>\n",
       "      <th>other</th>\n",
       "    </tr>\n",
       "    <tr>\n",
       "      <th>lumi</th>\n",
       "      <th></th>\n",
       "      <th></th>\n",
       "      <th></th>\n",
       "    </tr>\n",
       "  </thead>\n",
       "  <tbody>\n",
       "    <tr>\n",
       "      <th>1.3</th>\n",
       "      <td>35.00</td>\n",
       "      <td>6.00</td>\n",
       "      <td>130.00</td>\n",
       "    </tr>\n",
       "    <tr>\n",
       "      <th>1.6</th>\n",
       "      <td>177.50</td>\n",
       "      <td>10.00</td>\n",
       "      <td>13.50</td>\n",
       "    </tr>\n",
       "    <tr>\n",
       "      <th>2.0</th>\n",
       "      <td>100.80</td>\n",
       "      <td>66.00</td>\n",
       "      <td>341.10</td>\n",
       "    </tr>\n",
       "    <tr>\n",
       "      <th>3.0</th>\n",
       "      <td>534.16</td>\n",
       "      <td>91.36</td>\n",
       "      <td>21.09</td>\n",
       "    </tr>\n",
       "    <tr>\n",
       "      <th>4.5</th>\n",
       "      <td>382.00</td>\n",
       "      <td>5.00</td>\n",
       "      <td>1017.00</td>\n",
       "    </tr>\n",
       "  </tbody>\n",
       "</table>\n",
       "</div>"
      ],
      "text/plain": [
       "        data     mc    other\n",
       "lumi                        \n",
       "1.3    35.00   6.00   130.00\n",
       "1.6   177.50  10.00    13.50\n",
       "2.0   100.80  66.00   341.10\n",
       "3.0   534.16  91.36    21.09\n",
       "4.5   382.00   5.00  1017.00"
      ]
     },
     "execution_count": 64,
     "metadata": {},
     "output_type": "execute_result"
    }
   ],
   "source": [
    "import pandas as pd\n",
    "dframe = pd.DataFrame(\n",
    "    {'data': sData,\n",
    "     'mc': sMC,\n",
    "     'other': sOther,\n",
    "     'lumi': lumi\n",
    "    })\n",
    "nframe = dframe.groupby(['lumi'])['data', 'mc', 'other'].mean()\n",
    "nframe"
   ]
  },
  {
   "cell_type": "code",
   "execution_count": 66,
   "metadata": {},
   "outputs": [
    {
     "name": "stdout",
     "output_type": "stream",
     "text": [
      "Float64Index([1.3, 1.6, 2.0, 3.0, 4.5], dtype='float64', name=u'lumi')\n"
     ]
    }
   ],
   "source": [
    "print nframe.index"
   ]
  },
  {
   "cell_type": "code",
   "execution_count": 73,
   "metadata": {},
   "outputs": [
    {
     "data": {
      "image/png": "[encoded data removed]",
      "text/plain": [
       "<matplotlib.figure.Figure at 0x1142af750>"
      ]
     },
     "metadata": {},
     "output_type": "display_data"
    }
   ],
   "source": [
    "N = len(nframe.index)\n",
    "ind = np.arange(N)\n",
    "width = 0.50\n",
    "\n",
    "p1 = plt.bar(ind, nframe['data'], width)\n",
    "p2 = plt.bar(ind, nframe['mc'], width, bottom=nframe['data'])\n",
    "p3 = plt.bar(ind, nframe['other'], width, bottom=nframe['data']+nframe['mc'])\n",
    "\n",
    "plt.ylabel('Data size')\n",
    "plt.title('Data size by luminosity')\n",
    "plt.xlabel('Luminosity')\n",
    "plt.xticks(ind, (nframe.index))\n",
    "plt.legend((p1[0], p2[0], p3[0]), ('Real Data', 'Monte Carlo', 'Other'))\n",
    "\n",
    "plt.show()"
   ]
  },
  {
   "cell_type": "markdown",
   "metadata": {},
   "source": [
    "### Code"
   ]
  },
  {
   "cell_type": "code",
   "execution_count": 6,
   "metadata": {},
   "outputs": [
    {
     "name": "stdout",
     "output_type": "stream",
     "text": [
      "Total data = 9458.9 GB\n",
      "Average = 591.18125 GB\n",
      "Total for 2017 publications = 28967.88125 GB\n",
      "Total data / fb-1 = 3350.72179487 GB fb\n",
      "Average data / fb-1 = 209.420112179 GB fb\n",
      "Total for 2017 publications = 10261.5854968 GB fb\n"
     ]
    }
   ],
   "source": [
    "nanalyses=len(sData)\n",
    "total=sum(sData)+sum(sMC)+sum(sOther)\n",
    "print(\"Total data = {} GB\".format(total))\n",
    "average=total/nanalyses\n",
    "print(\"Average = {} GB\".format(average))\n",
    "print(\"Total for 2017 publications = {} GB\".format(average*49))\n",
    "\n",
    "sDL=zip(sData,lumi)\n",
    "sMCL=zip(sMC,lumi)\n",
    "sOtherL=zip(sOther,lumi)\n",
    "nData=[d[0]/d[1] for d in sDL]\n",
    "nMC=[d[0]/d[1] for d in sMCL]\n",
    "nOther=[d[0]/d[1] for d in sOtherL]\n",
    "totalPerfb=sum(nData)+sum(nMC)+sum(nOther)\n",
    "print(\"Total data / fb-1 = {} GB fb\".format(totalPerfb))\n",
    "averagePerfb=totalPerfb/nanalyses\n",
    "print(\"Average data / fb-1 = {} GB fb\".format(averagePerfb))\n",
    "print(\"Total for 2017 publications = {} GB fb\".format(averagePerfb*49))"
   ]
  },
  {
   "cell_type": "code",
   "execution_count": null,
   "metadata": {},
   "outputs": [],
   "source": []
  }
 ],
 "metadata": {
  "kernelspec": {
   "display_name": "Python 2",
   "language": "python",
   "name": "python2"
  },
  "language_info": {
   "codemirror_mode": {
    "name": "ipython",
    "version": 2
   },
   "file_extension": ".py",
   "mimetype": "text/x-python",
   "name": "python",
   "nbconvert_exporter": "python",
   "pygments_lexer": "ipython2",
   "version": "2.7.14"
  }
 },
 "nbformat": 4,
 "nbformat_minor": 2
}
