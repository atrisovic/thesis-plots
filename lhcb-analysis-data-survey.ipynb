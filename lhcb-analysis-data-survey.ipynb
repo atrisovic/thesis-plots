{
 "cells": [
  {
   "cell_type": "markdown",
   "metadata": {},
   "source": [
    "# Data from 2017 Physics Analysis survey. \n",
    "## Survey by: Sebastian Neubert @seneubert"
   ]
  },
  {
   "cell_type": "markdown",
   "metadata": {},
   "source": [
    "### Result summary\n",
    "\n",
    "- 49 analysis were published, out of that 16 returned data on their input data sizes. \n",
    "- We asked for ntuple size after stripping. Analyses could specify real data, MC and \"other\" samples, where other is for control channels and the like. All numbers are in GB or GBfb\n",
    "\n",
    "- Total data size reported: 9458.9 GB\n",
    "- Average per analysis: 591.1 GB\n",
    "- Average scaled to 49 analyses published in 2017: 28968 GB\n",
    "- Total reported normalized to luminosity (expect larger files from Run II!): 3358 GB fb\n",
    "- Average normalized to lumi: 210 GB fb\n",
    "- Average scaled to 49 analyses  published in 2017: 10284 Gb fb\n",
    "- The benchmark that should be used to budget storage needed (with contingency): 11 TB fb per year\n"
   ]
  },
  {
   "cell_type": "markdown",
   "metadata": {},
   "source": [
    "### Data"
   ]
  },
  {
   "cell_type": "code",
   "execution_count": 14,
   "metadata": {},
   "outputs": [],
   "source": [
    "sData=[382,35,350,21.6,3970,249,180,400,230,20,6,208,219,13.6,26,5]\n",
    "sMC=[5,6,10,22,515,1.6,110,224,110,6,15,1,37.5,0.5,3,10]\n",
    "lumi=[4.5,1.3,1.6,2,3,3,2,3,3,3,3,3,3,3,3,1.6]\n",
    "sOther=[1017,130,20,6.2,60,11.4,676,0,100,2,4,9,1.5,21,2,7]"
   ]
  },
  {
   "cell_type": "code",
   "execution_count": 135,
   "metadata": {},
   "outputs": [],
   "source": [
    "# style\n",
    "%run header"
   ]
  },
  {
   "cell_type": "markdown",
   "metadata": {},
   "source": [
    "## Average data size distribution per analysis (all entries)"
   ]
  },
  {
   "cell_type": "code",
   "execution_count": 132,
   "metadata": {},
   "outputs": [],
   "source": [
    "# average data size distribution per analysis\n",
    "sData_avg = np.mean(sData)\n",
    "sMC_avg = np.mean(sMC)\n",
    "sOther_avg = np.mean(sOther)"
   ]
  },
  {
   "cell_type": "markdown",
   "metadata": {},
   "source": [
    "### Total average datasize per analysis"
   ]
  },
  {
   "cell_type": "code",
   "execution_count": 134,
   "metadata": {},
   "outputs": [
    {
     "name": "stdout",
     "output_type": "stream",
     "text": [
      "591.18 GB\n"
     ]
    }
   ],
   "source": [
    "print str(np.around(sData_avg+sMC_avg+sOther_avg, decimals=2))+\" GB\""
   ]
  },
  {
   "cell_type": "markdown",
   "metadata": {},
   "source": [
    "### Distribution between real data, simulation and other (calibration) data in the total size on average"
   ]
  },
  {
   "cell_type": "code",
   "execution_count": 101,
   "metadata": {},
   "outputs": [
    {
     "data": {
      "image/png": "[encoded data removed]",
      "text/plain": [
       "<matplotlib.figure.Figure at 0x114920950>"
      ]
     },
     "metadata": {},
     "output_type": "display_data"
    }
   ],
   "source": [
    "size = np.around([sData_avg, sMC_avg, sOther_avg], decimals=1)\n",
    "labels = [str(s)+\" GB\" for s in size]\n",
    "real_labels = ['Real data', 'Monte Carlo', 'Other data']\n",
    "full_label = [x +' of '+ y for x,y in zip(labels, real_labels)]\n",
    "explode = (0.1, 0, 0)\n",
    "colors = plt.cm.Set3(np.linspace(0,1,3))\n",
    "\n",
    "fig, ax = plt.subplots()\n",
    "pie = ax.pie(size, explode=explode, labels=full_label, autopct='%1.1f%%',\n",
    "        shadow=False, startangle=90, colors=colors)\n",
    "ax.axis('equal')  \n",
    "fig.suptitle('Average data size distribution for one analysis')\n",
    "plt.legend(pie[0], real_labels, loc=0)\n",
    "plt.show()"
   ]
  },
  {
   "cell_type": "markdown",
   "metadata": {},
   "source": [
    "## Average data size distribution per analysis (without outliers)"
   ]
  },
  {
   "cell_type": "code",
   "execution_count": 104,
   "metadata": {},
   "outputs": [
    {
     "data": {
      "text/html": [
       "<div>\n",
       "<style scoped>\n",
       "    .dataframe tbody tr th:only-of-type {\n",
       "        vertical-align: middle;\n",
       "    }\n",
       "\n",
       "    .dataframe tbody tr th {\n",
       "        vertical-align: top;\n",
       "    }\n",
       "\n",
       "    .dataframe thead th {\n",
       "        text-align: right;\n",
       "    }\n",
       "</style>\n",
       "<table border=\"1\" class=\"dataframe\">\n",
       "  <thead>\n",
       "    <tr style=\"text-align: right;\">\n",
       "      <th></th>\n",
       "      <th>data</th>\n",
       "      <th>lumi</th>\n",
       "      <th>mc</th>\n",
       "      <th>other</th>\n",
       "      <th>total</th>\n",
       "    </tr>\n",
       "  </thead>\n",
       "  <tbody>\n",
       "    <tr>\n",
       "      <th>6</th>\n",
       "      <td>180.0</td>\n",
       "      <td>2.0</td>\n",
       "      <td>110.0</td>\n",
       "      <td>676.0</td>\n",
       "      <td>966.0</td>\n",
       "    </tr>\n",
       "    <tr>\n",
       "      <th>7</th>\n",
       "      <td>400.0</td>\n",
       "      <td>3.0</td>\n",
       "      <td>224.0</td>\n",
       "      <td>0.0</td>\n",
       "      <td>624.0</td>\n",
       "    </tr>\n",
       "    <tr>\n",
       "      <th>8</th>\n",
       "      <td>230.0</td>\n",
       "      <td>3.0</td>\n",
       "      <td>110.0</td>\n",
       "      <td>100.0</td>\n",
       "      <td>440.0</td>\n",
       "    </tr>\n",
       "    <tr>\n",
       "      <th>2</th>\n",
       "      <td>350.0</td>\n",
       "      <td>1.6</td>\n",
       "      <td>10.0</td>\n",
       "      <td>20.0</td>\n",
       "      <td>380.0</td>\n",
       "    </tr>\n",
       "    <tr>\n",
       "      <th>5</th>\n",
       "      <td>249.0</td>\n",
       "      <td>3.0</td>\n",
       "      <td>1.6</td>\n",
       "      <td>11.4</td>\n",
       "      <td>262.0</td>\n",
       "    </tr>\n",
       "    <tr>\n",
       "      <th>12</th>\n",
       "      <td>219.0</td>\n",
       "      <td>3.0</td>\n",
       "      <td>37.5</td>\n",
       "      <td>1.5</td>\n",
       "      <td>258.0</td>\n",
       "    </tr>\n",
       "    <tr>\n",
       "      <th>11</th>\n",
       "      <td>208.0</td>\n",
       "      <td>3.0</td>\n",
       "      <td>1.0</td>\n",
       "      <td>9.0</td>\n",
       "      <td>218.0</td>\n",
       "    </tr>\n",
       "    <tr>\n",
       "      <th>1</th>\n",
       "      <td>35.0</td>\n",
       "      <td>1.3</td>\n",
       "      <td>6.0</td>\n",
       "      <td>130.0</td>\n",
       "      <td>171.0</td>\n",
       "    </tr>\n",
       "    <tr>\n",
       "      <th>3</th>\n",
       "      <td>21.6</td>\n",
       "      <td>2.0</td>\n",
       "      <td>22.0</td>\n",
       "      <td>6.2</td>\n",
       "      <td>49.8</td>\n",
       "    </tr>\n",
       "    <tr>\n",
       "      <th>13</th>\n",
       "      <td>13.6</td>\n",
       "      <td>3.0</td>\n",
       "      <td>0.5</td>\n",
       "      <td>21.0</td>\n",
       "      <td>35.1</td>\n",
       "    </tr>\n",
       "    <tr>\n",
       "      <th>14</th>\n",
       "      <td>26.0</td>\n",
       "      <td>3.0</td>\n",
       "      <td>3.0</td>\n",
       "      <td>2.0</td>\n",
       "      <td>31.0</td>\n",
       "    </tr>\n",
       "    <tr>\n",
       "      <th>9</th>\n",
       "      <td>20.0</td>\n",
       "      <td>3.0</td>\n",
       "      <td>6.0</td>\n",
       "      <td>2.0</td>\n",
       "      <td>28.0</td>\n",
       "    </tr>\n",
       "    <tr>\n",
       "      <th>10</th>\n",
       "      <td>6.0</td>\n",
       "      <td>3.0</td>\n",
       "      <td>15.0</td>\n",
       "      <td>4.0</td>\n",
       "      <td>25.0</td>\n",
       "    </tr>\n",
       "    <tr>\n",
       "      <th>15</th>\n",
       "      <td>5.0</td>\n",
       "      <td>1.6</td>\n",
       "      <td>10.0</td>\n",
       "      <td>7.0</td>\n",
       "      <td>22.0</td>\n",
       "    </tr>\n",
       "  </tbody>\n",
       "</table>\n",
       "</div>"
      ],
      "text/plain": [
       "     data  lumi     mc  other  total\n",
       "6   180.0   2.0  110.0  676.0  966.0\n",
       "7   400.0   3.0  224.0    0.0  624.0\n",
       "8   230.0   3.0  110.0  100.0  440.0\n",
       "2   350.0   1.6   10.0   20.0  380.0\n",
       "5   249.0   3.0    1.6   11.4  262.0\n",
       "12  219.0   3.0   37.5    1.5  258.0\n",
       "11  208.0   3.0    1.0    9.0  218.0\n",
       "1    35.0   1.3    6.0  130.0  171.0\n",
       "3    21.6   2.0   22.0    6.2   49.8\n",
       "13   13.6   3.0    0.5   21.0   35.1\n",
       "14   26.0   3.0    3.0    2.0   31.0\n",
       "9    20.0   3.0    6.0    2.0   28.0\n",
       "10    6.0   3.0   15.0    4.0   25.0\n",
       "15    5.0   1.6   10.0    7.0   22.0"
      ]
     },
     "execution_count": 104,
     "metadata": {},
     "output_type": "execute_result"
    }
   ],
   "source": [
    "import pandas as pd\n",
    "dframe = pd.DataFrame(\n",
    "    {'data': sData,\n",
    "     'mc': sMC,\n",
    "     'other': sOther,\n",
    "     'lumi': lumi\n",
    "    })\n",
    "dframe['total'] = dframe['data']+dframe['mc']+dframe['other']\n",
    "\n",
    "# exclude outliers\n",
    "from scipy import stats\n",
    "clean = dframe[(np.abs(stats.zscore(dframe)) < 3).all(axis=1)]\n",
    "clean.sort_values('total', ascending=False)"
   ]
  },
  {
   "cell_type": "markdown",
   "metadata": {},
   "source": [
    "### Total average datasize per analysis (without outliers):"
   ]
  },
  {
   "cell_type": "code",
   "execution_count": 105,
   "metadata": {},
   "outputs": [
    {
     "name": "stdout",
     "output_type": "stream",
     "text": [
      "250.71 GB\n"
     ]
    }
   ],
   "source": [
    "print str(np.around(clean['total'].mean(), decimals=2))+\" GB\""
   ]
  },
  {
   "cell_type": "markdown",
   "metadata": {},
   "source": [
    "### Distribution between data, simulation and other (calibration) in the total size"
   ]
  },
  {
   "cell_type": "code",
   "execution_count": 106,
   "metadata": {},
   "outputs": [
    {
     "data": {
      "image/png": "[encoded data removed]",
      "text/plain": [
       "<matplotlib.figure.Figure at 0x1147c9750>"
      ]
     },
     "metadata": {},
     "output_type": "display_data"
    }
   ],
   "source": [
    "size = np.around([clean['data'].mean(), clean['mc'].mean(), clean['other'].mean()], decimals=1)\n",
    "labels = [str(s)+\" GB\" for s in size]\n",
    "real_labels = ['Real data', 'Monte Carlo', 'Other data']\n",
    "full_label = [x +' of '+ y for x,y in zip(labels, real_labels)]\n",
    "explode = (0.1, 0, 0)\n",
    "colors = plt.cm.Set2(np.linspace(0,1,3))\n",
    "\n",
    "fig, ax = plt.subplots()\n",
    "pie = ax.pie(size, explode=explode, labels=full_label, autopct='%1.1f%%',\n",
    "        shadow=False, startangle=90, colors=colors)\n",
    "ax.axis('equal')  \n",
    "fig.suptitle('Average data size distribution for one analysis')\n",
    "plt.legend(pie[0], real_labels, loc=2)\n",
    "plt.show()"
   ]
  },
  {
   "cell_type": "code",
   "execution_count": 107,
   "metadata": {},
   "outputs": [
    {
     "data": {
      "text/html": [
       "<div>\n",
       "<style scoped>\n",
       "    .dataframe tbody tr th:only-of-type {\n",
       "        vertical-align: middle;\n",
       "    }\n",
       "\n",
       "    .dataframe tbody tr th {\n",
       "        vertical-align: top;\n",
       "    }\n",
       "\n",
       "    .dataframe thead th {\n",
       "        text-align: right;\n",
       "    }\n",
       "</style>\n",
       "<table border=\"1\" class=\"dataframe\">\n",
       "  <thead>\n",
       "    <tr style=\"text-align: right;\">\n",
       "      <th></th>\n",
       "      <th>data</th>\n",
       "      <th>mc</th>\n",
       "      <th>other</th>\n",
       "    </tr>\n",
       "    <tr>\n",
       "      <th>lumi</th>\n",
       "      <th></th>\n",
       "      <th></th>\n",
       "      <th></th>\n",
       "    </tr>\n",
       "  </thead>\n",
       "  <tbody>\n",
       "    <tr>\n",
       "      <th>1.3</th>\n",
       "      <td>35.00</td>\n",
       "      <td>6.00</td>\n",
       "      <td>130.00</td>\n",
       "    </tr>\n",
       "    <tr>\n",
       "      <th>1.6</th>\n",
       "      <td>177.50</td>\n",
       "      <td>10.00</td>\n",
       "      <td>13.50</td>\n",
       "    </tr>\n",
       "    <tr>\n",
       "      <th>2.0</th>\n",
       "      <td>100.80</td>\n",
       "      <td>66.00</td>\n",
       "      <td>341.10</td>\n",
       "    </tr>\n",
       "    <tr>\n",
       "      <th>3.0</th>\n",
       "      <td>534.16</td>\n",
       "      <td>91.36</td>\n",
       "      <td>21.09</td>\n",
       "    </tr>\n",
       "    <tr>\n",
       "      <th>4.5</th>\n",
       "      <td>382.00</td>\n",
       "      <td>5.00</td>\n",
       "      <td>1017.00</td>\n",
       "    </tr>\n",
       "  </tbody>\n",
       "</table>\n",
       "</div>"
      ],
      "text/plain": [
       "        data     mc    other\n",
       "lumi                        \n",
       "1.3    35.00   6.00   130.00\n",
       "1.6   177.50  10.00    13.50\n",
       "2.0   100.80  66.00   341.10\n",
       "3.0   534.16  91.36    21.09\n",
       "4.5   382.00   5.00  1017.00"
      ]
     },
     "execution_count": 107,
     "metadata": {},
     "output_type": "execute_result"
    }
   ],
   "source": [
    "nframe = dframe.groupby(['lumi'])['data', 'mc', 'other'].mean()\n",
    "nframe"
   ]
  },
  {
   "cell_type": "code",
   "execution_count": 109,
   "metadata": {},
   "outputs": [
    {
     "data": {
      "image/png": "[encoded data removed]",
      "text/plain": [
       "<matplotlib.figure.Figure at 0x11486f890>"
      ]
     },
     "metadata": {},
     "output_type": "display_data"
    }
   ],
   "source": [
    "N = len(nframe.index)\n",
    "ind = np.arange(N)\n",
    "width = 0.50\n",
    "\n",
    "p1 = plt.bar(ind, nframe['data'], width)\n",
    "p2 = plt.bar(ind, nframe['mc'], width, bottom=nframe['data'])\n",
    "p3 = plt.bar(ind, nframe['other'], width, bottom=nframe['data']+nframe['mc'])\n",
    "\n",
    "plt.ylabel('Data size')\n",
    "plt.title('Data size by luminosity')\n",
    "plt.xlabel('Luminosity')\n",
    "plt.xticks(ind, (nframe.index))\n",
    "plt.legend((p1[0], p2[0], p3[0]), ('Real Data', 'Monte Carlo', 'Other'))\n",
    "\n",
    "plt.show()"
   ]
  },
  {
   "cell_type": "markdown",
   "metadata": {},
   "source": [
    "### Summary"
   ]
  },
  {
   "cell_type": "code",
   "execution_count": 131,
   "metadata": {},
   "outputs": [
    {
     "data": {
      "text/html": [
       "<div>\n",
       "<style scoped>\n",
       "    .dataframe tbody tr th:only-of-type {\n",
       "        vertical-align: middle;\n",
       "    }\n",
       "\n",
       "    .dataframe tbody tr th {\n",
       "        vertical-align: top;\n",
       "    }\n",
       "\n",
       "    .dataframe thead th {\n",
       "        text-align: right;\n",
       "    }\n",
       "</style>\n",
       "<table border=\"1\" class=\"dataframe\">\n",
       "  <thead>\n",
       "    <tr style=\"text-align: right;\">\n",
       "      <th></th>\n",
       "      <th>0</th>\n",
       "      <th>1</th>\n",
       "    </tr>\n",
       "  </thead>\n",
       "  <tbody>\n",
       "    <tr>\n",
       "      <th>0</th>\n",
       "      <td>Total data</td>\n",
       "      <td>9458.9 GB</td>\n",
       "    </tr>\n",
       "    <tr>\n",
       "      <th>1</th>\n",
       "      <td>Average</td>\n",
       "      <td>591.18125 GB</td>\n",
       "    </tr>\n",
       "    <tr>\n",
       "      <th>2</th>\n",
       "      <td>Total data / fb-1</td>\n",
       "      <td>3350.72179487 GB fb</td>\n",
       "    </tr>\n",
       "    <tr>\n",
       "      <th>3</th>\n",
       "      <td>Average data / fb-1</td>\n",
       "      <td>209.420112179 GB fb</td>\n",
       "    </tr>\n",
       "    <tr>\n",
       "      <th>4</th>\n",
       "      <td>Total for 2017 publications</td>\n",
       "      <td>10261.5854968 GB fb</td>\n",
       "    </tr>\n",
       "  </tbody>\n",
       "</table>\n",
       "</div>"
      ],
      "text/plain": [
       "                             0                    1\n",
       "0                   Total data            9458.9 GB\n",
       "1                      Average         591.18125 GB\n",
       "2            Total data / fb-1  3350.72179487 GB fb\n",
       "3          Average data / fb-1  209.420112179 GB fb\n",
       "4  Total for 2017 publications  10261.5854968 GB fb"
      ]
     },
     "execution_count": 131,
     "metadata": {},
     "output_type": "execute_result"
    }
   ],
   "source": [
    "nanalyses=len(sData)\n",
    "total=sum(sData)+sum(sMC)+sum(sOther)\n",
    "res = dict()\n",
    "res[\"Total data\"] = str(total) + \" GB\"\n",
    "average=total/nanalyses\n",
    "res[\"Average\"] = str(average) + \" GB\"\n",
    "res[\"Total for 2017 publications\"] = str(average*49) + \" GB\"\n",
    "\n",
    "sDL=zip(sData,lumi)\n",
    "sMCL=zip(sMC,lumi)\n",
    "sOtherL=zip(sOther,lumi)\n",
    "nData=[d[0]/d[1] for d in sDL]\n",
    "nMC=[d[0]/d[1] for d in sMCL]\n",
    "nOther=[d[0]/d[1] for d in sOtherL]\n",
    "totalPerfb=sum(nData)+sum(nMC)+sum(nOther)\n",
    "res[\"Total data / fb-1\"] = str(totalPerfb) + \" GB fb\"\n",
    "averagePerfb=totalPerfb/nanalyses\n",
    "res[\"Average data / fb-1\"] = str(averagePerfb) + \" GB fb\"\n",
    "res[\"Total for 2017 publications\"] = str(averagePerfb*49) + \" GB fb\"\n",
    "\n",
    "df=pd.DataFrame(res.items())\n",
    "df"
   ]
  },
  {
   "cell_type": "code",
   "execution_count": null,
   "metadata": {},
   "outputs": [],
   "source": []
  }
 ],
 "metadata": {
  "kernelspec": {
   "display_name": "Python 2",
   "language": "python",
   "name": "python2"
  },
  "language_info": {
   "codemirror_mode": {
    "name": "ipython",
    "version": 2
   },
   "file_extension": ".py",
   "mimetype": "text/x-python",
   "name": "python",
   "nbconvert_exporter": "python",
   "pygments_lexer": "ipython2",
   "version": "2.7.14"
  }
 },
 "nbformat": 4,
 "nbformat_minor": 2
}
